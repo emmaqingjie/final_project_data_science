{
 "cells": [
  {
   "cell_type": "markdown",
   "metadata": {},
   "source": [
    "### 1. Data preparation"
   ]
  },
  {
   "cell_type": "code",
   "execution_count": 153,
   "metadata": {},
   "outputs": [],
   "source": [
    "import pandas as pd\n",
    "\n",
    "# Load data\n",
    "checkin_data = pd.read_csv(\"../data/_raw/checkin_checkout_history_updated.csv\", parse_dates= ['checkin_time', 'checkout_time'])\n",
    "gym_data = pd.read_csv(\"../data/_raw/gym_locations_data.csv\")\n",
    "user_data = pd.read_csv(\"../data/_raw/users_data.csv\")\n",
    "\n",
    "workout_data = checkin_data.merge(user_data[['user_id', 'age', 'gender']], on='user_id', how='left')\n",
    "workout_data = workout_data.merge(gym_data[['gym_id', 'gym_type']], on='gym_id', how='left')\n",
    "workout_data = workout_data.merge(user_data[['user_id','subscription_plan']], on='user_id', how='left')\n",
    "workout_data['age_group'] = pd.cut(\n",
    "    workout_data['age'],\n",
    "    bins=[0, 18, 30, 60, 65],\n",
    "    labels=['Teen', 'Young Adult', 'Adult', 'Senior'],\n",
    "    include_lowest=True,\n",
    "    ordered=False\n",
    ")"
   ]
  },
  {
   "attachments": {},
   "cell_type": "markdown",
   "metadata": {},
   "source": [
    "### 2. Standardizing the data"
   ]
  },
  {
   "cell_type": "code",
   "execution_count": 154,
   "metadata": {},
   "outputs": [],
   "source": [
    "from sklearn.preprocessing import LabelEncoder\n",
    "\n",
    "workout_label_encoder = LabelEncoder()\n",
    "gender_label_encoder = LabelEncoder()\n",
    "age_group_label_encoder = LabelEncoder()\n",
    "subscription_label_encoder = LabelEncoder()\n",
    "\n",
    "workout_data['workout_type_standardized'] = workout_label_encoder.fit_transform(workout_data['workout_type'])\n",
    "workout_data['gender_standardized'] = gender_label_encoder.fit_transform(workout_data['gender'])\n",
    "workout_data['age_group_standardized'] = age_group_label_encoder.fit_transform(workout_data['age_group'])\n",
    "workout_data['subscription_standardized'] = subscription_label_encoder.fit_transform(workout_data['gym_type'])"
   ]
  },
  {
   "attachments": {},
   "cell_type": "markdown",
   "metadata": {},
   "source": [
    "### 3. Data Split\n",
    "\n",
    "Splitting data into test and training data and identifying optimal accuracy"
   ]
  },
  {
   "cell_type": "code",
   "execution_count": 162,
   "metadata": {},
   "outputs": [
    {
     "name": "stdout",
     "output_type": "stream",
     "text": [
      "Cross-validated Accuracy: 0.17\n"
     ]
    }
   ],
   "source": [
    "import numpy as np\n",
    "import pandas as pd\n",
    "import matplotlib.pyplot as plt\n",
    "from sklearn.model_selection import train_test_split, KFold, cross_val_score, cross_val_predict\n",
    "from sklearn.linear_model import LogisticRegression\n",
    "from sklearn.metrics import confusion_matrix, accuracy_score\n",
    "import seaborn as sns\n",
    "\n",
    "# Standardize data\n",
    "# Define variables and target\n",
    "X = workout_data[['age_group_standardized', 'gender_standardized', 'subscription_standardized']]\n",
    "y = workout_data['workout_type_standardized']\n",
    "X = (X - np.mean(X, axis=0)) / np.std(X, axis=0)\n",
    "\n",
    "# Cross-validation\n",
    "kf = KFold(n_splits=5, shuffle=True, random_state=42)\n",
    "\n",
    "# Initialize arrays to store results\n",
    "lambda_interval = np.logspace(-4, 2, 15)\n",
    "train_error_rate = np.zeros(len(lambda_interval))\n",
    "test_error_rate = np.zeros(len(lambda_interval))\n",
    "coefficient_norm = np.zeros(len(lambda_interval))\n",
    "\n",
    "# Loop over lambda values\n",
    "for k in range(len(lambda_interval)):\n",
    "    mdl = LogisticRegression(penalty=\"l2\", C=1 / lambda_interval[k], max_iter=1000, multi_class='ovr')\n",
    "    \n",
    "    # Perform cross-validation\n",
    "    scores = cross_val_score(mdl, X, y, cv=kf)\n",
    "    y_pred = cross_val_predict(mdl, X, y, cv=kf)\n",
    "    \n",
    "    # Calculate and store mean cross-validation accuracy\n",
    "    train_error_rate[k] = 1 - scores.mean()\n",
    "    \n",
    "    # Fit model on the whole dataset to get coefficients\n",
    "    mdl.fit(X, y)\n",
    "    w_est = mdl.coef_[0]\n",
    "    coefficient_norm[k] = np.sqrt(np.sum(w_est**2))\n",
    "\n",
    "# Choose the best lambda based on the lowest error rate\n",
    "opt_lambda_idx = np.argmin(train_error_rate)\n",
    "opt_lambda = lambda_interval[opt_lambda_idx]\n",
    "\n",
    "# Train the final model with optimal lambda\n",
    "final_model = LogisticRegression(penalty=\"l2\", C=1 / opt_lambda, max_iter=1000, multi_class='ovr')\n",
    "final_model.fit(X, y)\n",
    "\n",
    "# Predict using cross-validation on the whole dataset\n",
    "y_pred = cross_val_predict(final_model, X, y, cv=kf)\n",
    "\n",
    "# Evaluate model\n",
    "accuracy = accuracy_score(y, y_pred)\n",
    "print(f\"Cross-validated Accuracy: {accuracy:.2f}\")\n"
   ]
  },
  {
   "attachments": {},
   "cell_type": "markdown",
   "metadata": {},
   "source": [
    "# Logistic Regression Classification\n",
    "\n",
    "Logistic Regression Classification is a statistical algorithm.\n",
    "It is a binary classification, evaluation the accucary of the prediction model by determining True Positives (TP), True Negative (TN), False Positives (FP) and False Negatives (FN)"
   ]
  },
  {
   "cell_type": "code",
   "execution_count": null,
   "metadata": {},
   "outputs": [],
   "source": [
    "# Confusion Matrix\n",
    "plt.figure(figsize=(8, 6))\n",
    "conf_matrix = confusion_matrix(y, y_pred)\n",
    "sns.heatmap(\n",
    "    conf_matrix, \n",
    "    annot=True, \n",
    "    fmt=\"d\", \n",
    "    cmap=\"Blues\", \n",
    "    xticklabels=['Weightlifting', 'Yoga', 'Cardio', 'Pilates', 'Swimming', 'CrossFit'],  \n",
    "    yticklabels=['Weightlifting', 'Yoga', 'Cardio', 'Pilates', 'Swimming', 'CrossFit'],  \n",
    "    annot_kws={\"size\": 13}  \n",
    ")\n",
    "plt.title(\"Confusion Matrix for Workout Type\", size=20, loc=\"center\")\n",
    "plt.xlabel('Predicted', size=15)\n",
    "plt.ylabel('Actual', size=15)\n",
    "plt.xticks(size=12)\n",
    "plt.yticks(size=12)\n",
    "plt.tight_layout()\n",
    "plt.show()"
   ]
  },
  {
   "attachments": {},
   "cell_type": "markdown",
   "metadata": {},
   "source": [
    "The confusion matrix shows the performance of the logistic regression in predicting workout types based on age and gender.\n",
    "The model isn't good at differentiating between the workout types effectively. "
   ]
  },
  {
   "attachments": {},
   "cell_type": "markdown",
   "metadata": {},
   "source": [
    "# Decision Boundary Classification"
   ]
  },
  {
   "cell_type": "code",
   "execution_count": 172,
   "metadata": {},
   "outputs": [],
   "source": [
    "xaxis_dict = {0: ['Adult', 'Senior', 'Young Adult', 'Teen']}\n",
    "yaxis_dict = {0: [\"Female\", \"Male\", \"Non-binary\"],\n",
    "              1: [\"Pro\", \"Basic\", \"Student\"]}\n",
    "\n",
    "\n",
    "from sklearn.model_selection import train_test_split\n",
    "\n",
    "# Define variables and target\n",
    "X = workout_data[['age_group_standardized', 'gender_standardized', 'subscription_standardized']]\n",
    "y = workout_data['workout_type_standardized']\n",
    "\n",
    "# Split data into training and testing sets (80% train, 20% test)\n",
    "X_train, X_test, y_train, y_test = train_test_split(X, y, test_size=0.2, random_state=42)"
   ]
  },
  {
   "cell_type": "code",
   "execution_count": 174,
   "metadata": {},
   "outputs": [
    {
     "name": "stdout",
     "output_type": "stream",
     "text": [
      "Decision Boundary Accuracy: 0.16813333333333333\n",
      "Decision Boundary Accuracy: 0.16876666666666668\n"
     ]
    },
    {
     "data": {
      "image/png": "[encoded data removed]",
      "text/plain": [
       "<Figure size 1008x360 with 3 Axes>"
      ]
     },
     "metadata": {
      "needs_background": "light"
     },
     "output_type": "display_data"
    }
   ],
   "source": [
    "import matplotlib.pyplot as plt\n",
    "import numpy as np\n",
    "from sklearn.tree import DecisionTreeClassifier\n",
    "import warnings\n",
    "warnings.filterwarnings('ignore')\n",
    "\n",
    "fig, axes = plt.subplots(1, 2, figsize=(14, 5))\n",
    "\n",
    "###################################################### AGE VS GENDER ######################################################\n",
    "var1, var2 = 0, 0  # Index for 'Age Group' and 'Gender'\n",
    "X_train_pair = X_train.iloc[:, [var1, var2]].values\n",
    "X_test_pair = X_test.iloc[:, [var1, var2]].values\n",
    "\n",
    "# Train the Decision Boundary\n",
    "tree_model = DecisionTreeClassifier(random_state=42)\n",
    "tree_model.fit(X_train_pair, y_train)\n",
    "\n",
    "# Create mesh grid boundaries\n",
    "x_min, x_max = X_train_pair[:, 0].min() - 1, X_train_pair[:, 0].max() + 1\n",
    "y_min, y_max = X_train_pair[:, 1].min() - 1, X_train_pair[:, 1].max() + 1\n",
    "xx, yy = np.meshgrid(np.arange(x_min, x_max, 0.01), np.arange(y_min, y_max, 0.01))\n",
    "\n",
    "# Evaluate Decision Boundary\n",
    "y_pred_tree = tree_model.predict(X_test_pair)\n",
    "print(\"Decision Boundary Accuracy:\", accuracy_score(y_test, y_pred_tree))\n",
    "\n",
    "# Predict on the mesh grid\n",
    "Z = tree_model.predict(np.c_[xx.ravel(), yy.ravel()])\n",
    "Z = Z.reshape(xx.shape)\n",
    "\n",
    "# Plot decision boundaries\n",
    "axes[0].contourf(xx, yy, Z, alpha=0.6, cmap=plt.cm.viridis)\n",
    "\n",
    "# Scatter plot for prediction data\n",
    "scatter = axes[0].scatter(X_test_pair[:, 0], X_test_pair[:, 1], c=y_test, cmap=plt.cm.viridis, edgecolor='k', s=80, alpha=0.7)\n",
    "\n",
    "# Set labels and titles\n",
    "axes[0].set_xlabel('Age Group')\n",
    "axes[0].set_ylabel('Gender')\n",
    "axes[0].set_title(f\"Decision Boundary - Age Group vs Gender\")\n",
    "\n",
    "axes[0].set_xticks([idx for idx in range(len(xaxis_dict[var1]))]) \n",
    "axes[0].set_xticklabels(xaxis_dict[var1]) \n",
    "axes[0].set_yticks([idx for idx in range(len(yaxis_dict[var2]))]) \n",
    "axes[0].set_yticklabels(yaxis_dict[var2])\n",
    "\n",
    "###################################################### AGE VS SUBSCRIPTION ######################################################\n",
    "var1, var2 = 0, 1  # Index for 'Age Group' and 'Gender'\n",
    "X_train_pair = X_train.iloc[:, [var1, var2]].values\n",
    "X_test_pair = X_test.iloc[:, [var1, var2]].values\n",
    "\n",
    "# Train the Decision Boundary\n",
    "tree_model = DecisionTreeClassifier(random_state=42)\n",
    "tree_model.fit(X_train_pair, y_train)\n",
    "\n",
    "# Create mesh grid\n",
    "x_min, x_max = X_train_pair[:, 0].min() - 1, X_train_pair[:, 0].max() + 1\n",
    "y_min, y_max = X_train_pair[:, 1].min() - 1, X_train_pair[:, 1].max() + 1\n",
    "xx, yy = np.meshgrid(np.arange(x_min, x_max, 0.01), np.arange(y_min, y_max, 0.01))\n",
    "\n",
    "# Evaluate Decision Boundary\n",
    "y_pred_tree = tree_model.predict(X_test_pair)\n",
    "print(\"Decision Boundary Accuracy:\", accuracy_score(y_test, y_pred_tree))\n",
    "\n",
    "# Predict on the mesh grid\n",
    "Z = tree_model.predict(np.c_[xx.ravel(), yy.ravel()])\n",
    "Z = Z.reshape(xx.shape)\n",
    "\n",
    "# Plot decision boundaries\n",
    "axes[1].contourf(xx, yy, Z, alpha=0.6, cmap=plt.cm.viridis)\n",
    "\n",
    "# Scatter plot for prediction data\n",
    "scatter = axes[1].scatter(X_test_pair[:, 0], X_test_pair[:, 1], c=y_test, cmap=plt.cm.viridis, edgecolor='k', s=80, alpha=0.7)\n",
    "\n",
    "# Set labels and titles\n",
    "axes[1].set_xlabel('Age Group')\n",
    "axes[1].set_ylabel('Subscription')\n",
    "axes[1].set_title(f\"Decision Boundary - Age Group vs Subscription\")\n",
    "\n",
    "axes[1].set_xticks([idx for idx in range(len(xaxis_dict[var1]))]) \n",
    "axes[1].set_xticklabels(xaxis_dict[var1]) \n",
    "axes[1].set_yticks([idx for idx in range(len(yaxis_dict[var2]))]) \n",
    "axes[1].set_yticklabels(yaxis_dict[var2])\n",
    "\n",
    "# Add a colorbar below the plots\n",
    "workout_labels = workout_label_encoder.inverse_transform(np.unique(workout_data['workout_type_standardized']))\n",
    "colorbar_new = fig.colorbar(scatter, ax=axes, orientation='horizontal', pad=0.2, fraction=0.1)\n",
    "colorbar_new.set_ticks(range(len(workout_labels)))\n",
    "colorbar_new.ax.set_xticklabels(workout_labels)\n",
    "colorbar_new.set_label(\"Workout Type\")\n",
    "\n",
    "plt.tight_layout(rect=[0, 0.4, 1, 1.5])  # Adjust layout to make space for colorbar and title\n",
    "plt.show()\n",
    "plt.show()"
   ]
  },
  {
   "attachments": {},
   "cell_type": "markdown",
   "metadata": {},
   "source": [
    "The Decision Boundary predicts for each \"case\", what workout category they are classified into.\n",
    "E.g. a teen female is categorized into the pilates category, while an adult male is categorized into a combination of yoga and weightlifting. "
   ]
  }
 ],
 "metadata": {
  "kernelspec": {
   "display_name": "Python 3",
   "language": "python",
   "name": "python3"
  },
  "language_info": {
   "codemirror_mode": {
    "name": "ipython",
    "version": 3
   },
   "file_extension": ".py",
   "mimetype": "text/x-python",
   "name": "python",
   "nbconvert_exporter": "python",
   "pygments_lexer": "ipython3",
   "version": "3.9.12"
  },
  "vscode": {
   "interpreter": {
    "hash": "cd78fef2128015050713e82ca51c6520b11aee7c9ee8df750520bbbc7384cbaa"
   }
  }
 },
 "nbformat": 4,
 "nbformat_minor": 2
}
